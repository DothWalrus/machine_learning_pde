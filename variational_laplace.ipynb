{
 "cells": [
  {
   "cell_type": "code",
   "execution_count": 113,
   "id": "vietnamese-credit",
   "metadata": {},
   "outputs": [],
   "source": [
    "import numpy as np\n",
    "import tensorflow as tf\n",
    "from tensorflow import keras\n",
    "from tensorflow.keras.models import Sequential\n",
    "from tensorflow.keras.layers import Dense\n",
    "import matplotlib.pyplot as plt"
   ]
  },
  {
   "cell_type": "code",
   "execution_count": 126,
   "id": "little-laugh",
   "metadata": {},
   "outputs": [],
   "source": [
    "# This section is just me figuring out how tensors work\n",
    "#lower_bound = tf.zeros(shape=[1,1]) # Lower bound u(0)=0\n",
    "#upper_bound = tf.ones(shape=[1,1]) # Upper bound u(1)=1\n",
    "#x = tf.random.uniform(shape=[1,100]) # Interior points\n",
    "#training_pts = tf.concat([lower_bound, x, upper_bound], 1) # Actual training data\n",
    "#x_0 = tf.slice(training_pts, [0,0], [1,1])\n",
    "#x_1 = tf.slice(training_pts, [0,101], [1,1])\n",
    "#print(x_0.numpy(), x_1.numpy())"
   ]
  },
  {
   "cell_type": "code",
   "execution_count": 161,
   "id": "returning-superintendent",
   "metadata": {},
   "outputs": [],
   "source": [
    "# Construct Simple Feedforward Network\n",
    "model = Sequential()\n",
    "model.add(Dense(100, input_shape=(1,100), activation='relu'))\n",
    "model.add(Dense(100, activation='relu'))\n",
    "model.add(Dense(100, activation='relu'))\n",
    "model.add(Dense(100, activation='relu'))\n",
    "model.add(Dense(100))\n",
    "#model.compile(loss='mean_squared_error', optimizer='adam')"
   ]
  },
  {
   "cell_type": "code",
   "execution_count": 165,
   "id": "placed-venture",
   "metadata": {},
   "outputs": [],
   "source": [
    "# Define Loss Function\n",
    "def loss_fn(x):\n",
    "    #print(x)\n",
    "    with tf.GradientTape() as t:\n",
    "        t.watch(x)\n",
    "        f = model(x, training=True)\n",
    "        #print('f = ', f)\n",
    "    df_dx = t.gradient(f,x)\n",
    "    u_0 = tf.zeros(shape=[1,1]) # Lower boundary condition\n",
    "    u_1 = tf.ones(shape=[1,1]) # Upper boundary condition\n",
    "    bound_weight = 1\n",
    "    mse = tf.keras.losses.MeanSquaredError()\n",
    "    lower_bound_error = tf.math.subtract(tf.slice(f,[0,0],[1,1]),u_0)\n",
    "    #print(lower_bound_error)\n",
    "    upper_bound_error = tf.math.subtract(tf.slice(f,[0,99], [1,1]),u_1)\n",
    "    loss = tf.math.add(tf.nn.l2_loss(df_dx), \n",
    "                       tf.nn.l2_loss(bound_weight*lower_bound_error), \n",
    "                       tf.nn.l2_loss(bound_weight*upper_bound_error))\n",
    "    return loss"
   ]
  },
  {
   "cell_type": "code",
   "execution_count": 167,
   "id": "excited-writing",
   "metadata": {
    "scrolled": true
   },
   "outputs": [
    {
     "name": "stdout",
     "output_type": "stream",
     "text": [
      "Epoch 000: Loss: 1860876288.000\n",
      "Epoch 001: Loss: 643839360.000\n",
      "Epoch 002: Loss: 270187968.000\n",
      "Epoch 003: Loss: 144374272.000\n",
      "Epoch 004: Loss: 91977832.000\n",
      "Epoch 005: Loss: 66469704.000\n",
      "Epoch 006: Loss: 51652596.000\n",
      "Epoch 007: Loss: 41613896.000\n",
      "Epoch 008: Loss: 34353720.000\n",
      "Epoch 009: Loss: 29022572.000\n",
      "Epoch 010: Loss: 24430866.000\n",
      "Epoch 011: Loss: 20879532.000\n",
      "Epoch 012: Loss: 17315618.000\n",
      "Epoch 013: Loss: 13684267.000\n",
      "Epoch 014: Loss: 10184958.000\n",
      "Epoch 015: Loss: 6842589.500\n",
      "Epoch 016: Loss: 3969216.000\n",
      "Epoch 017: Loss: 1726123.750\n",
      "Epoch 018: Loss: 421893.938\n",
      "Epoch 019: Loss: 107391.625\n",
      "Epoch 020: Loss: 86111.414\n",
      "Epoch 021: Loss: 56804.914\n",
      "Epoch 022: Loss: 43478.273\n",
      "Epoch 023: Loss: 32958.781\n",
      "Epoch 024: Loss: 23131.838\n",
      "Epoch 025: Loss: 15788.271\n",
      "Epoch 026: Loss: 11478.705\n",
      "Epoch 027: Loss: 7651.793\n",
      "Epoch 028: Loss: 3941.329\n",
      "Epoch 029: Loss: 1982.001\n",
      "Epoch 030: Loss: 1368.289\n",
      "Epoch 031: Loss: 994.082\n",
      "Epoch 032: Loss: 992.095\n",
      "Epoch 033: Loss: 722.355\n",
      "Epoch 034: Loss: 747.318\n",
      "Epoch 035: Loss: 374.949\n",
      "Epoch 036: Loss: 429.360\n",
      "Epoch 037: Loss: 396.217\n",
      "Epoch 038: Loss: 245.242\n",
      "Epoch 039: Loss: 175.186\n",
      "Epoch 040: Loss: 152.239\n",
      "Epoch 041: Loss: 399.629\n",
      "Epoch 042: Loss: 394.574\n",
      "Epoch 043: Loss: 210.254\n",
      "Epoch 044: Loss: 312.653\n",
      "Epoch 045: Loss: 126.749\n",
      "Epoch 046: Loss: 95.397\n",
      "Epoch 047: Loss: 51.773\n",
      "Epoch 048: Loss: 130.521\n",
      "Epoch 049: Loss: 81.968\n",
      "Epoch 050: Loss: 45.797\n",
      "Epoch 051: Loss: 49.179\n",
      "Epoch 052: Loss: 193.628\n",
      "Epoch 053: Loss: 106.804\n",
      "Epoch 054: Loss: 110.632\n",
      "Epoch 055: Loss: 40.155\n",
      "Epoch 056: Loss: 121.194\n",
      "Epoch 057: Loss: 54.222\n",
      "Epoch 058: Loss: 180.693\n",
      "Epoch 059: Loss: 107.700\n",
      "Epoch 060: Loss: 122.102\n",
      "Epoch 061: Loss: 47.094\n",
      "Epoch 062: Loss: 73.142\n",
      "Epoch 063: Loss: 209.479\n",
      "Epoch 064: Loss: 107.781\n",
      "Epoch 065: Loss: 46.237\n",
      "Epoch 066: Loss: 70.882\n",
      "Epoch 067: Loss: 52.244\n",
      "Epoch 068: Loss: 34.898\n",
      "Epoch 069: Loss: 47.000\n",
      "Epoch 070: Loss: 51.210\n",
      "Epoch 071: Loss: 34.837\n",
      "Epoch 072: Loss: 32.242\n",
      "Epoch 073: Loss: 39.420\n",
      "Epoch 074: Loss: 71.948\n",
      "Epoch 075: Loss: 35.606\n",
      "Epoch 076: Loss: 30.009\n",
      "Epoch 077: Loss: 46.039\n",
      "Epoch 078: Loss: 41.621\n",
      "Epoch 079: Loss: 32.162\n",
      "Epoch 080: Loss: 48.056\n",
      "Epoch 081: Loss: 95.126\n",
      "Epoch 082: Loss: 24.867\n",
      "Epoch 083: Loss: 20.116\n",
      "Epoch 084: Loss: 30.221\n",
      "Epoch 085: Loss: 22.046\n",
      "Epoch 086: Loss: 31.569\n",
      "Epoch 087: Loss: 56.163\n",
      "Epoch 088: Loss: 181.546\n",
      "Epoch 089: Loss: 28.138\n",
      "Epoch 090: Loss: 32.674\n",
      "Epoch 091: Loss: 35.426\n",
      "Epoch 092: Loss: 11.321\n",
      "Epoch 093: Loss: 14.554\n",
      "Epoch 094: Loss: 26.353\n",
      "Epoch 095: Loss: 20.747\n",
      "Epoch 096: Loss: 266.301\n",
      "Epoch 097: Loss: 39.040\n",
      "Epoch 098: Loss: 25.839\n",
      "Epoch 099: Loss: 20.161\n"
     ]
    }
   ],
   "source": [
    "# Train network\n",
    "optimizer = tf.keras.optimizers.Adam() # Fancy gradient decent\n",
    "epochs = 100\n",
    "train_loss_results = [] # For tracking loss during training\n",
    "iterations_per_epoch = 10\n",
    "minibatch_size = 100 # Number of points to be selected each iteration\n",
    "for epoch in range(epochs):\n",
    "    epoch_loss_avg = tf.keras.metrics.Mean()\n",
    "    for iteration in range(iterations_per_epoch):\n",
    "        lower_bound = tf.zeros(shape=[1,1]) # Lower bound u(0)=0\n",
    "        upper_bound = tf.ones(shape=[1,1]) # Upper bound u(1)=1\n",
    "        interior_pts = tf.random.uniform(shape=[1,minibatch_size-2]) # Interior points\n",
    "        x = tf.concat([lower_bound, interior_pts, upper_bound], 1) # Actual training data\n",
    "        with tf.GradientTape() as t:\n",
    "            t.watch(x)\n",
    "            #print(x)\n",
    "            #f = model(x, training=True) # Estimate for u\n",
    "            loss = loss_fn(x) # Loss\n",
    "        grads = t.gradient(loss, model.trainable_weights) # Find model gradients\n",
    "        optimizer.apply_gradients(zip(grads,model.trainable_weights)) # Perform gradient decent\n",
    "        epoch_loss_avg.update_state(loss) # Track loss\n",
    "    # End Epoch\n",
    "    train_loss_results.append(epoch_loss_avg.result())\n",
    "    print(\"Epoch {:03d}: Loss: {:.3f}\".format(epoch, epoch_loss_avg.result()))"
   ]
  },
  {
   "cell_type": "code",
   "execution_count": 168,
   "id": "afraid-freeze",
   "metadata": {
    "scrolled": true
   },
   "outputs": [
    {
     "data": {
      "text/plain": [
       "<matplotlib.collections.PathCollection at 0x7f3de1255c10>"
      ]
     },
     "execution_count": 168,
     "metadata": {},
     "output_type": "execute_result"
    },
    {
     "data": {
      "image/png": "[encoded data removed]",
      "text/plain": [
       "<Figure size 432x288 with 1 Axes>"
      ]
     },
     "metadata": {
      "needs_background": "light"
     },
     "output_type": "display_data"
    }
   ],
   "source": [
    "# Run the model with real data\n",
    "lower_bound = tf.zeros(shape=[1,1]) # Lower bound u(0)=0\n",
    "upper_bound = tf.ones(shape=[1,1]) # Upper bound u(1)=1\n",
    "x = tf.random.uniform(shape=[1,98]) # Interior points\n",
    "test_points_tensor = tf.concat([lower_bound, x, upper_bound], 1) # Actual data\n",
    "test_points = test_points_tensor.numpy()\n",
    "f = model(test_points_tensor, training=False).numpy()\n",
    "#print(test_points[0])\n",
    "#print(f[0])\n",
    "plt.scatter(test_points[0],f[0])"
   ]
  }
 ],
 "metadata": {
  "kernelspec": {
   "display_name": "Python 3",
   "language": "python",
   "name": "python3"
  },
  "language_info": {
   "codemirror_mode": {
    "name": "ipython",
    "version": 3
   },
   "file_extension": ".py",
   "mimetype": "text/x-python",
   "name": "python",
   "nbconvert_exporter": "python",
   "pygments_lexer": "ipython3",
   "version": "3.8.5"
  }
 },
 "nbformat": 4,
 "nbformat_minor": 5
}
