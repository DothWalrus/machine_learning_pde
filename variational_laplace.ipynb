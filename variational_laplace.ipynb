{
 "cells": [
  {
   "cell_type": "code",
   "execution_count": 113,
   "id": "vietnamese-credit",
   "metadata": {},
   "outputs": [],
   "source": [
    "import numpy as np\n",
    "import tensorflow as tf\n",
    "from tensorflow import keras\n",
    "from tensorflow.keras.models import Sequential\n",
    "from tensorflow.keras.layers import Dense\n",
    "import matplotlib.pyplot as plt"
   ]
  },
  {
   "cell_type": "code",
   "execution_count": 126,
   "id": "little-laugh",
   "metadata": {},
   "outputs": [],
   "source": [
    "# This section is just me figuring out how tensors work\n",
    "#lower_bound = tf.zeros(shape=[1,1]) # Lower bound u(0)=0\n",
    "#upper_bound = tf.ones(shape=[1,1]) # Upper bound u(1)=1\n",
    "#x = tf.random.uniform(shape=[1,100]) # Interior points\n",
    "#training_pts = tf.concat([lower_bound, x, upper_bound], 1) # Actual training data\n",
    "#x_0 = tf.slice(training_pts, [0,0], [1,1])\n",
    "#x_1 = tf.slice(training_pts, [0,101], [1,1])\n",
    "#print(x_0.numpy(), x_1.numpy())"
   ]
  },
  {
   "cell_type": "code",
   "execution_count": 161,
   "id": "returning-superintendent",
   "metadata": {},
   "outputs": [],
   "source": [
    "# Construct Simple Feedforward Network\n",
    "model = Sequential()\n",
    "model.add(Dense(100, input_shape=(1,100), activation='relu'))\n",
    "model.add(Dense(100, activation='relu'))\n",
    "model.add(Dense(100, activation='relu'))\n",
    "model.add(Dense(100, activation='relu'))\n",
    "model.add(Dense(100))\n",
    "#model.compile(loss='mean_squared_error', optimizer='adam')"
   ]
  },
  {
   "cell_type": "code",
   "execution_count": 162,
   "id": "placed-venture",
   "metadata": {},
   "outputs": [],
   "source": [
    "# Define Loss Function\n",
    "def loss_fn(x):\n",
    "    #print(x)\n",
    "    with tf.GradientTape() as t:\n",
    "        t.watch(x)\n",
    "        f = model(x, training=True)\n",
    "        #print('f = ', f)\n",
    "    df_dx = t.gradient(f,x)\n",
    "    u_0 = tf.zeros(shape=[1,1]) # Lower boundary condition\n",
    "    u_1 = tf.ones(shape=[1,1]) # Upper boundary condition\n",
    "    bound_weight = 1\n",
    "    mse = tf.keras.losses.MeanSquaredError()\n",
    "    lower_bound_error = tf.math.subtract(tf.slice(f,[0,0],[1,1]),u_0)\n",
    "    #print(lower_bound_error)\n",
    "    upper_bound_error = tf.math.subtract(tf.slice(f,[0,99], [1,1]),u_1)\n",
    "    loss = mse(df_dx, bound_weight*lower_bound_error, bound_weight*upper_bound_error)\n",
    "    return loss"
   ]
  },
  {
   "cell_type": "code",
   "execution_count": 163,
   "id": "excited-writing",
   "metadata": {
    "scrolled": true
   },
   "outputs": [
    {
     "name": "stdout",
     "output_type": "stream",
     "text": [
      "Epoch 000: Loss: -4.921\n",
      "Epoch 001: Loss: -522.854\n",
      "Epoch 002: Loss: -31646.496\n",
      "Epoch 003: Loss: -1617961.250\n",
      "Epoch 004: Loss: -62494824.000\n",
      "Epoch 005: Loss: -2072175872.000\n",
      "Epoch 006: Loss: -46775382016.000\n",
      "Epoch 007: Loss: -781817151488.000\n",
      "Epoch 008: Loss: -9815713644544.000\n",
      "Epoch 009: Loss: -107486170316800.000\n"
     ]
    }
   ],
   "source": [
    "# Train network\n",
    "optimizer = tf.keras.optimizers.Adam() # Fancy gradient decent\n",
    "epochs = 10\n",
    "train_loss_results = [] # For tracking loss during training\n",
    "iterations_per_epoch = 10\n",
    "minibatch_size = 100 # Number of points to be selected each iteration\n",
    "for epoch in range(epochs):\n",
    "    epoch_loss_avg = tf.keras.metrics.Mean()\n",
    "    for iteration in range(iterations_per_epoch):\n",
    "        lower_bound = tf.zeros(shape=[1,1]) # Lower bound u(0)=0\n",
    "        upper_bound = tf.ones(shape=[1,1]) # Upper bound u(1)=1\n",
    "        interior_pts = tf.random.uniform(shape=[1,minibatch_size-2]) # Interior points\n",
    "        x = tf.concat([lower_bound, interior_pts, upper_bound], 1) # Actual training data\n",
    "        with tf.GradientTape() as t:\n",
    "            t.watch(x)\n",
    "            #print(x)\n",
    "            #f = model(x, training=True) # Estimate for u\n",
    "            loss = loss_fn(x) # Loss\n",
    "        grads = t.gradient(loss, model.trainable_weights) # Find model gradients\n",
    "        optimizer.apply_gradients(zip(grads,model.trainable_weights)) # Perform gradient decent\n",
    "        epoch_loss_avg.update_state(loss) # Track loss\n",
    "    # End Epoch\n",
    "    train_loss_results.append(epoch_loss_avg.result())\n",
    "    print(\"Epoch {:03d}: Loss: {:.3f}\".format(epoch, epoch_loss_avg.result()))"
   ]
  },
  {
   "cell_type": "code",
   "execution_count": 164,
   "id": "speaking-hopkins",
   "metadata": {
    "scrolled": true
   },
   "outputs": [
    {
     "data": {
      "text/plain": [
       "<matplotlib.collections.PathCollection at 0x7f3de12d48b0>"
      ]
     },
     "execution_count": 164,
     "metadata": {},
     "output_type": "execute_result"
    },
    {
     "data": {
      "image/png": "[encoded data removed]",
      "text/plain": [
       "<Figure size 432x288 with 1 Axes>"
      ]
     },
     "metadata": {
      "needs_background": "light"
     },
     "output_type": "display_data"
    }
   ],
   "source": [
    "# Run the model with real data\n",
    "lower_bound = tf.zeros(shape=[1,1]) # Lower bound u(0)=0\n",
    "upper_bound = tf.ones(shape=[1,1]) # Upper bound u(1)=1\n",
    "x = tf.random.uniform(shape=[1,98]) # Interior points\n",
    "test_points_tensor = tf.concat([lower_bound, x, upper_bound], 1) # Actual data\n",
    "test_points = test_points_tensor.numpy()\n",
    "f = model(test_points_tensor, training=False).numpy()\n",
    "#print(test_points[0])\n",
    "#print(f[0])\n",
    "plt.scatter(test_points[0],f[0])"
   ]
  }
 ],
 "metadata": {
  "kernelspec": {
   "display_name": "Python 3",
   "language": "python",
   "name": "python3"
  },
  "language_info": {
   "codemirror_mode": {
    "name": "ipython",
    "version": 3
   },
   "file_extension": ".py",
   "mimetype": "text/x-python",
   "name": "python",
   "nbconvert_exporter": "python",
   "pygments_lexer": "ipython3",
   "version": "3.8.5"
  }
 },
 "nbformat": 4,
 "nbformat_minor": 5
}
