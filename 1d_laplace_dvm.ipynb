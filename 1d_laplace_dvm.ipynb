{
 "cells": [
  {
   "cell_type": "code",
   "execution_count": 1,
   "id": "vietnamese-credit",
   "metadata": {},
   "outputs": [],
   "source": [
    "import numpy as np\n",
    "import tensorflow as tf\n",
    "from tensorflow import keras\n",
    "from tensorflow.keras.models import Sequential\n",
    "from tensorflow.keras.layers import Dense\n",
    "import matplotlib.pyplot as plt\n",
    "import tikzplotlib\n",
    "import timeit"
   ]
  },
  {
   "cell_type": "code",
   "execution_count": 2,
   "id": "little-laugh",
   "metadata": {},
   "outputs": [],
   "source": [
    "# This section is just me figuring out how tensors work\n",
    "#lower_bound = tf.zeros(shape=[1,1]) # Lower bound u(0)=0\n",
    "#upper_bound = tf.ones(shape=[1,1]) # Upper bound u(1)=1\n",
    "#x = tf.random.uniform(shape=[1,100]) # Interior points\n",
    "#training_pts = tf.concat([lower_bound, x, upper_bound], 1) # Actual training data\n",
    "#x_0 = tf.slice(training_pts, [0,0], [1,1])\n",
    "#x_1 = tf.slice(training_pts, [0,101], [1,1])\n",
    "#print(x_0.numpy(), x_1.numpy())"
   ]
  },
  {
   "cell_type": "code",
   "execution_count": 3,
   "id": "returning-superintendent",
   "metadata": {},
   "outputs": [],
   "source": [
    "# Construct Simple Feedforward Network\n",
    "model = Sequential()\n",
    "model.add(Dense(100, input_shape=[1], activation='relu'))\n",
    "model.add(Dense(100, activation='relu'))\n",
    "model.add(Dense(100, activation='relu'))\n",
    "model.add(Dense(100, activation='relu'))\n",
    "model.add(Dense(100, activation='relu'))\n",
    "model.add(Dense(100, activation='relu'))\n",
    "model.add(Dense(1))\n",
    "#model.compile(loss='mean_squared_error', optimizer='adam')"
   ]
  },
  {
   "cell_type": "code",
   "execution_count": 4,
   "id": "placed-venture",
   "metadata": {},
   "outputs": [],
   "source": [
    "# Define Loss Function\n",
    "def loss_fn(model,x):\n",
    "    #print(x)\n",
    "    with tf.GradientTape() as t:\n",
    "        t.watch(x)\n",
    "        f = model(x, training=True)\n",
    "        #print('f = ', f)\n",
    "    df_dx = t.gradient(f,x)\n",
    "    u_0 = tf.zeros(shape=[1,1]) # Lower boundary condition\n",
    "    u_1 = tf.ones(shape=[1,1]) # Upper boundary condition\n",
    "    bound_weight = 1000 # lambda = sqrt(bound_weight)\n",
    "    mse = tf.keras.losses.MeanSquaredError()\n",
    "    lower_bound_error = tf.math.subtract(tf.slice(f,[0,0],[1,1]),u_0)\n",
    "    #print(lower_bound_error)\n",
    "    upper_bound_error = tf.math.subtract(tf.slice(f,[99,0], [1,1]),u_1)\n",
    "    loss_1 = tf.math.add(tf.nn.l2_loss(df_dx), \n",
    "                       tf.nn.l2_loss(bound_weight*lower_bound_error))\n",
    "    loss = tf.math.add(loss_1, tf.nn.l2_loss(bound_weight*upper_bound_error))\n",
    "    return loss"
   ]
  },
  {
   "cell_type": "code",
   "execution_count": 5,
   "id": "straight-fashion",
   "metadata": {},
   "outputs": [],
   "source": [
    "def train_for():\n",
    "    # Train network\n",
    "    optimizer = tf.keras.optimizers.Adam() # Fancy gradient decent\n",
    "    epochs = 20\n",
    "    train_loss_results = [] # For tracking loss during training\n",
    "    iterations_per_epoch = 100\n",
    "    minibatch_size = 100 # Number of points to be selected each iteration\n",
    "\n",
    "    for epoch in range(epochs): # Uncomment to run for specific number of epochs\n",
    "        epoch_loss_avg = tf.keras.metrics.Mean()\n",
    "        for iteration in range(iterations_per_epoch):\n",
    "            lower_bound = tf.zeros(shape=[1,1]) # Lower bound u(0)=0\n",
    "            upper_bound = tf.ones(shape=[1,1]) # Upper bound u(1)=1\n",
    "            interior_pts = tf.random.uniform(shape=[1,minibatch_size-2]) # Interior points\n",
    "            x = tf.transpose(tf.concat([lower_bound, interior_pts, upper_bound], 1)) # Actual training data\n",
    "            with tf.GradientTape() as t:\n",
    "                t.watch(x)\n",
    "                #print(x)\n",
    "                #f = model(x, training=True) # Estimate for u\n",
    "                loss = loss_fn(model,x) # Loss\n",
    "            grads = t.gradient(loss, model.trainable_weights) # Find model gradients\n",
    "            optimizer.apply_gradients(zip(grads,model.trainable_weights)) # Perform gradient decent\n",
    "            epoch_loss_avg.update_state(loss) # Track loss\n",
    "            # End training iteration\n",
    "        train_loss_results.append(epoch_loss_avg.result())\n",
    "        #print(\"Epoch {:03d}: Loss: {:.3f}\".format(epoch, epoch_loss_avg.result()))\n",
    "        # End Epoch"
   ]
  },
  {
   "cell_type": "code",
   "execution_count": 6,
   "id": "excited-writing",
   "metadata": {
    "scrolled": true
   },
   "outputs": [],
   "source": [
    "def train_while():\n",
    "    # Train network\n",
    "    optimizer = tf.keras.optimizers.Adam() # Fancy gradient decent\n",
    "    epochs = 20\n",
    "    train_loss_results = [] # For tracking loss during training\n",
    "    iterations_per_epoch = 100\n",
    "    minibatch_size = 100 # Number of points to be selected each iteration\n",
    "    average_error = 1\n",
    "    epoch = -1\n",
    "    while average_error > 0.005: \n",
    "        epoch_loss_avg = tf.keras.metrics.Mean()\n",
    "        for iteration in range(iterations_per_epoch):\n",
    "            lower_bound = tf.zeros(shape=[1,1]) # Lower bound u(0)=0\n",
    "            upper_bound = tf.ones(shape=[1,1]) # Upper bound u(1)=1\n",
    "            interior_pts = tf.random.uniform(shape=[1,minibatch_size-2]) # Interior points\n",
    "            x = tf.transpose(tf.concat([lower_bound, interior_pts, upper_bound], 1)) # Actual training data\n",
    "            with tf.GradientTape() as t:\n",
    "                t.watch(x)\n",
    "                #print(x)\n",
    "                #f = model(x, training=True) # Estimate for u\n",
    "                loss = loss_fn(model,x) # Loss\n",
    "            grads = t.gradient(loss, model.trainable_weights) # Find model gradients\n",
    "            optimizer.apply_gradients(zip(grads,model.trainable_weights)) # Perform gradient decent\n",
    "            epoch_loss_avg.update_state(loss) # Track loss\n",
    "            # End training iteration\n",
    "        # Check average error    \n",
    "        lower_bound = tf.zeros(shape=[1,1]) # Lower bound u(0)=0\n",
    "        upper_bound = tf.ones(shape=[1,1]) # Upper bound u(1)=1\n",
    "        x = tf.sort(tf.random.uniform(shape=[1,98])) # Interior points\n",
    "        test_points_tensor = tf.transpose(tf.concat([lower_bound, x, upper_bound], 1)) # Actual data\n",
    "        test_points = test_points_tensor.numpy()\n",
    "        g = model(test_points_tensor, training=False).numpy()\n",
    "        average_error = np.sum(abs(g-test_points))/len(g)\n",
    "        print(average_error)\n",
    "        \n",
    "        train_loss_results.append(epoch_loss_avg.result())\n",
    "        epoch+=1 \n",
    "        print(\"Epoch {:03d}: Loss: {:.3f}\".format(epoch, epoch_loss_avg.result()))\n",
    "        # End Epoch"
   ]
  },
  {
   "cell_type": "code",
   "execution_count": 7,
   "id": "crucial-mortality",
   "metadata": {
    "scrolled": true
   },
   "outputs": [
    {
     "name": "stdout",
     "output_type": "stream",
     "text": [
      "0.02323091506958008\n",
      "Epoch 000: Loss: 41122.891\n",
      "0.02475712537765503\n",
      "Epoch 001: Loss: 52.894\n",
      "0.022148003578186037\n",
      "Epoch 002: Loss: 52.284\n",
      "0.019220442771911622\n",
      "Epoch 003: Loss: 51.988\n",
      "0.01960857391357422\n",
      "Epoch 004: Loss: 51.705\n",
      "0.017312686443328857\n",
      "Epoch 005: Loss: 51.171\n",
      "0.018448433876037597\n",
      "Epoch 006: Loss: 50.997\n",
      "0.015048118829727173\n",
      "Epoch 007: Loss: 50.701\n",
      "0.01286618947982788\n",
      "Epoch 008: Loss: 53.556\n",
      "0.008838284611701965\n",
      "Epoch 009: Loss: 50.162\n",
      "0.008159438371658325\n",
      "Epoch 010: Loss: 50.176\n",
      "0.00782342791557312\n",
      "Epoch 011: Loss: 51.856\n",
      "0.005718751549720764\n",
      "Epoch 012: Loss: 50.015\n",
      "0.007071241736412048\n",
      "Epoch 013: Loss: 50.487\n",
      "0.009237664937973022\n",
      "Epoch 014: Loss: 53.833\n",
      "0.009416526556015015\n",
      "Epoch 015: Loss: 49.744\n",
      "0.00738628625869751\n",
      "Epoch 016: Loss: 53.135\n",
      "0.006315075755119324\n",
      "Epoch 017: Loss: 49.954\n",
      "0.005055903792381287\n",
      "Epoch 018: Loss: 51.562\n",
      "0.012560744285583497\n",
      "Epoch 019: Loss: 55.419\n",
      "0.0027906668186187746\n",
      "Epoch 020: Loss: 49.898\n",
      "0.0024051666259765625\n"
     ]
    },
    {
     "data": {
      "image/png": "[encoded data removed]",
      "text/plain": [
       "<Figure size 432x288 with 1 Axes>"
      ]
     },
     "metadata": {
      "needs_background": "light"
     },
     "output_type": "display_data"
    }
   ],
   "source": [
    "# Run the model with real data\n",
    "#train_for()\n",
    "train_while()\n",
    "lower_bound = tf.zeros(shape=[1,1]) # Lower bound u(0)=0\n",
    "upper_bound = tf.ones(shape=[1,1]) # Upper bound u(1)=1\n",
    "x = tf.sort(tf.random.uniform(shape=[1,98])) # Interior points\n",
    "test_points_tensor = tf.transpose(tf.concat([lower_bound, x, upper_bound], 1)) # Actual data\n",
    "test_points = test_points_tensor.numpy()\n",
    "g = model(test_points_tensor, training=False).numpy()\n",
    "x_actual = tf.sort(tf.random.uniform(shape=[1,1000]).numpy()) # Known solution\n",
    "#print(test_points[0])\n",
    "#print(x_actual[0])\n",
    "#print(f[0])\n",
    "fig = plt.figure()\n",
    "ax = fig.add_subplot(111)\n",
    "ax.set_title('1D Laplace (DVM)')\n",
    "ax.plot(x_actual[0],x_actual[0], label='u(x)', color='blue')\n",
    "ax.plot(test_points,g,'r--', label='g(x)')\n",
    "ax.legend()\n",
    "ax.set_aspect('equal','box')\n",
    "\n",
    "tikzplotlib.save(\"1d_laplace_dvm.tex\")\n",
    "\n",
    "average_error = np.sum(abs(g-test_points))/len(g)\n",
    "print(average_error)"
   ]
  },
  {
   "cell_type": "code",
   "execution_count": 8,
   "id": "concerned-france",
   "metadata": {},
   "outputs": [],
   "source": [
    "#print(timeit.timeit(train_while, number=30))"
   ]
  }
 ],
 "metadata": {
  "kernelspec": {
   "display_name": "Python 3",
   "language": "python",
   "name": "python3"
  },
  "language_info": {
   "codemirror_mode": {
    "name": "ipython",
    "version": 3
   },
   "file_extension": ".py",
   "mimetype": "text/x-python",
   "name": "python",
   "nbconvert_exporter": "python",
   "pygments_lexer": "ipython3",
   "version": "3.7.7"
  }
 },
 "nbformat": 4,
 "nbformat_minor": 5
}
