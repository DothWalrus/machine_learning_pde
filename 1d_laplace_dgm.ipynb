{
 "cells": [
  {
   "cell_type": "code",
   "execution_count": 56,
   "id": "vietnamese-credit",
   "metadata": {},
   "outputs": [],
   "source": [
    "import numpy as np\n",
    "import tensorflow as tf\n",
    "from tensorflow import keras\n",
    "from tensorflow.keras.models import Sequential\n",
    "from tensorflow.keras.layers import Dense\n",
    "import matplotlib.pyplot as plt\n",
    "import tikzplotlib"
   ]
  },
  {
   "cell_type": "code",
   "execution_count": 20,
   "id": "little-laugh",
   "metadata": {},
   "outputs": [],
   "source": [
    "# This section is just me figuring out how tensors work\n",
    "#lower_bound = tf.zeros(shape=[1,1]) # Lower bound u(0)=0\n",
    "#upper_bound = tf.ones(shape=[1,1]) # Upper bound u(1)=1\n",
    "#x = tf.random.uniform(shape=[1,100]) # Interior points\n",
    "#training_pts = tf.concat([lower_bound, x, upper_bound], 1) # Actual training data\n",
    "#x_0 = tf.slice(training_pts, [0,0], [1,1])\n",
    "#x_1 = tf.slice(training_pts, [0,101], [1,1])\n",
    "#print(x_0.numpy(), x_1.numpy())"
   ]
  },
  {
   "cell_type": "code",
   "execution_count": 57,
   "id": "returning-superintendent",
   "metadata": {},
   "outputs": [],
   "source": [
    "# Construct Simple Feedforward Network\n",
    "model = Sequential()\n",
    "model.add(Dense(100, input_shape=[1], activation='tanh'))\n",
    "model.add(Dense(100, activation='tanh'))\n",
    "model.add(Dense(100, activation='tanh'))\n",
    "model.add(Dense(100, activation='tanh'))\n",
    "model.add(Dense(100, activation='tanh'))\n",
    "model.add(Dense(100, activation='tanh'))\n",
    "model.add(Dense(1))\n",
    "#model.compile(loss='mean_squared_error', optimizer='adam')"
   ]
  },
  {
   "cell_type": "code",
   "execution_count": 53,
   "id": "placed-venture",
   "metadata": {},
   "outputs": [],
   "source": [
    "# Define Loss Function\n",
    "def loss_fn(model,x):\n",
    "    #print(x)\n",
    "    with tf.GradientTape() as tt:\n",
    "        tt.watch(x)\n",
    "        with tf.GradientTape() as t:\n",
    "            t.watch(x)\n",
    "            f = model(x, training=True)\n",
    "            #print('f = ', f)\n",
    "        df_dx = t.gradient(f,x)\n",
    "        #print(df_dx)\n",
    "    d2f_dx2 = tt.gradient(df_dx,x)\n",
    "    #print(d2f_dx2)\n",
    "    \n",
    "    u_0 = tf.zeros(shape=[1,1]) # Lower boundary condition\n",
    "    u_1 = tf.ones(shape=[1,1]) # Upper boundary condition\n",
    "    bound_weight = 1\n",
    "    mse = tf.keras.losses.MeanSquaredError()\n",
    "    lower_bound_error = tf.math.subtract(tf.slice(f,[0,0],[1,1]),u_0)\n",
    "    #print(lower_bound_error)\n",
    "    upper_bound_error = tf.math.subtract(tf.slice(f,[99,0], [1,1]),u_1)\n",
    "    loss_1 = tf.math.add(tf.nn.l2_loss(d2f_dx2), \n",
    "                       tf.nn.l2_loss(bound_weight*lower_bound_error))\n",
    "    loss = tf.math.add(loss_1, tf.nn.l2_loss(bound_weight*upper_bound_error))\n",
    "    return loss"
   ]
  },
  {
   "cell_type": "code",
   "execution_count": 58,
   "id": "excited-writing",
   "metadata": {
    "scrolled": true
   },
   "outputs": [
    {
     "name": "stdout",
     "output_type": "stream",
     "text": [
      "Epoch 000: Loss: 0.089\n",
      "Epoch 001: Loss: 0.001\n",
      "Epoch 002: Loss: 0.000\n",
      "Epoch 003: Loss: 0.000\n",
      "Epoch 004: Loss: 0.000\n",
      "Epoch 005: Loss: 0.000\n",
      "Epoch 006: Loss: 0.000\n",
      "Epoch 007: Loss: 0.000\n",
      "Epoch 008: Loss: 0.000\n",
      "Epoch 009: Loss: 0.000\n",
      "Epoch 010: Loss: 0.000\n",
      "Epoch 011: Loss: 0.000\n",
      "Epoch 012: Loss: 0.000\n",
      "Epoch 013: Loss: 0.000\n",
      "Epoch 014: Loss: 0.000\n",
      "Epoch 015: Loss: 0.000\n",
      "Epoch 016: Loss: 0.000\n",
      "Epoch 017: Loss: 0.000\n",
      "Epoch 018: Loss: 0.000\n",
      "Epoch 019: Loss: 0.000\n"
     ]
    }
   ],
   "source": [
    "# Train network\n",
    "optimizer = tf.keras.optimizers.Adam() # Fancy gradient decent\n",
    "epochs = 20\n",
    "train_loss_results = [] # For tracking loss during training\n",
    "iterations_per_epoch = 100\n",
    "minibatch_size = 100 # Number of points to be selected each iteration\n",
    "for epoch in range(epochs):\n",
    "    epoch_loss_avg = tf.keras.metrics.Mean()\n",
    "    for iteration in range(iterations_per_epoch):\n",
    "        lower_bound = tf.zeros(shape=[1,1]) # Lower bound u(0)=0\n",
    "        upper_bound = tf.ones(shape=[1,1]) # Upper bound u(1)=1\n",
    "        interior_pts = tf.random.uniform(shape=[1,minibatch_size-2]) # Interior points\n",
    "        x = tf.transpose(tf.concat([lower_bound, interior_pts, upper_bound], 1)) # Actual training data\n",
    "        with tf.GradientTape() as t:\n",
    "            t.watch(x)\n",
    "            #print(x)\n",
    "            #f = model(x, training=True) # Estimate for u\n",
    "            loss = loss_fn(model,x) # Loss\n",
    "        grads = t.gradient(loss, model.trainable_weights) # Find model gradients\n",
    "        optimizer.apply_gradients(zip(grads,model.trainable_weights)) # Perform gradient decent\n",
    "        epoch_loss_avg.update_state(loss) # Track loss\n",
    "    # End Epoch\n",
    "    train_loss_results.append(epoch_loss_avg.result())\n",
    "    print(\"Epoch {:03d}: Loss: {:.3f}\".format(epoch, epoch_loss_avg.result()))"
   ]
  },
  {
   "cell_type": "code",
   "execution_count": 59,
   "id": "crucial-mortality",
   "metadata": {
    "scrolled": true
   },
   "outputs": [
    {
     "data": {
      "image/png": "[encoded data removed]",
      "text/plain": [
       "<Figure size 432x288 with 1 Axes>"
      ]
     },
     "metadata": {
      "needs_background": "light"
     },
     "output_type": "display_data"
    }
   ],
   "source": [
    "# Run the model with real data\n",
    "lower_bound = tf.zeros(shape=[1,1]) # Lower bound u(0)=0\n",
    "upper_bound = tf.ones(shape=[1,1]) # Upper bound u(1)=1\n",
    "x = tf.random.uniform(shape=[1,98]) # Interior points\n",
    "test_points_tensor = tf.transpose(tf.concat([lower_bound, x, upper_bound], 1)) # Actual data\n",
    "test_points = test_points_tensor.numpy()\n",
    "f = model(test_points_tensor, training=False).numpy()\n",
    "x_actual = tf.random.uniform(shape=[1,1000]).numpy() # Known solution\n",
    "#print(test_points[0])\n",
    "#print(f[0])\n",
    "plt.title('1D Laplace (DGM)')\n",
    "plt.scatter(x_actual,x_actual, label='u(x)')\n",
    "plt.scatter(test_points,f, label='f(x)')\n",
    "plt.legend()\n",
    "\n",
    "tikzplotlib.save(\"1d_laplace_dgm.tex\")\n"
   ]
  }
 ],
 "metadata": {
  "kernelspec": {
   "display_name": "Python 3",
   "language": "python",
   "name": "python3"
  },
  "language_info": {
   "codemirror_mode": {
    "name": "ipython",
    "version": 3
   },
   "file_extension": ".py",
   "mimetype": "text/x-python",
   "name": "python",
   "nbconvert_exporter": "python",
   "pygments_lexer": "ipython3",
   "version": "3.8.5"
  }
 },
 "nbformat": 4,
 "nbformat_minor": 5
}
