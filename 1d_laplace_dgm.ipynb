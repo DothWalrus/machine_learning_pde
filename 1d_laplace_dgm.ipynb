{
 "cells": [
  {
   "cell_type": "code",
   "execution_count": 2,
   "id": "vietnamese-credit",
   "metadata": {},
   "outputs": [],
   "source": [
    "import numpy as np\n",
    "import tensorflow as tf\n",
    "from tensorflow import keras\n",
    "from tensorflow.keras.models import Sequential\n",
    "from tensorflow.keras.layers import Dense\n",
    "import matplotlib.pyplot as plt\n",
    "import tikzplotlib\n",
    "import timeit"
   ]
  },
  {
   "cell_type": "code",
   "execution_count": 3,
   "id": "little-laugh",
   "metadata": {},
   "outputs": [],
   "source": [
    "# This section is just me figuring out how tensors work\n",
    "#lower_bound = tf.zeros(shape=[1,1]) # Lower bound u(0)=0\n",
    "#upper_bound = tf.ones(shape=[1,1]) # Upper bound u(1)=1\n",
    "#x = tf.random.uniform(shape=[1,100]) # Interior points\n",
    "#training_pts = tf.concat([lower_bound, x, upper_bound], 1) # Actual training data\n",
    "#x_0 = tf.slice(training_pts, [0,0], [1,1])\n",
    "#x_1 = tf.slice(training_pts, [0,101], [1,1])\n",
    "#print(x_0.numpy(), x_1.numpy())"
   ]
  },
  {
   "cell_type": "code",
   "execution_count": 25,
   "id": "returning-superintendent",
   "metadata": {},
   "outputs": [],
   "source": [
    "# Construct Simple Feedforward Network\n",
    "model = Sequential()\n",
    "model.add(Dense(100, input_shape=[1], activation='tanh'))\n",
    "model.add(Dense(100, activation='tanh'))\n",
    "model.add(Dense(100, activation='tanh'))\n",
    "model.add(Dense(100, activation='tanh'))\n",
    "model.add(Dense(100, activation='tanh'))\n",
    "model.add(Dense(100, activation='tanh'))\n",
    "model.add(Dense(1))\n",
    "#model.compile(loss='mean_squared_error', optimizer='adam')"
   ]
  },
  {
   "cell_type": "code",
   "execution_count": 17,
   "id": "placed-venture",
   "metadata": {},
   "outputs": [],
   "source": [
    "# Define Loss Function\n",
    "def loss_fn(model,x):\n",
    "    #print(x)\n",
    "    with tf.GradientTape() as tt:\n",
    "        tt.watch(x)\n",
    "        with tf.GradientTape() as t:\n",
    "            t.watch(x)\n",
    "            f = model(x, training=True)\n",
    "            #print('f = ', f)\n",
    "        df_dx = t.gradient(f,x)\n",
    "        #print(df_dx)\n",
    "    d2f_dx2 = tt.gradient(df_dx,x)\n",
    "    #print(d2f_dx2)\n",
    "    \n",
    "    u_0 = tf.zeros(shape=[1,1]) # Lower boundary condition\n",
    "    u_1 = tf.ones(shape=[1,1]) # Upper boundary condition\n",
    "    bound_weight = 1 # lambda = sqrt(bound_weight)\n",
    "    mse = tf.keras.losses.MeanSquaredError()\n",
    "    lower_bound_error = tf.math.subtract(tf.slice(f,[0,0],[1,1]),u_0)\n",
    "    #print(lower_bound_error)\n",
    "    upper_bound_error = tf.math.subtract(tf.slice(f,[99,0], [1,1]),u_1)\n",
    "    loss_1 = tf.math.add(tf.nn.l2_loss(d2f_dx2), \n",
    "                       tf.nn.l2_loss(bound_weight*lower_bound_error))\n",
    "    loss = tf.math.add(loss_1, tf.nn.l2_loss(bound_weight*upper_bound_error))\n",
    "    return loss"
   ]
  },
  {
   "cell_type": "code",
   "execution_count": 20,
   "id": "excited-writing",
   "metadata": {
    "scrolled": true
   },
   "outputs": [],
   "source": [
    "def train():    \n",
    "    # Train network\n",
    "    optimizer = tf.keras.optimizers.Adam() # Fancy gradient decent\n",
    "    epochs = 20\n",
    "    train_loss_results = [] # For tracking loss during training\n",
    "    iterations_per_epoch = 100\n",
    "    minibatch_size = 100 # Number of points to be selected each iteration\n",
    "    #for epoch in range(epochs): # Uncomment to run for specific number of epochs\n",
    "    average_error = 1\n",
    "    epoch = -1\n",
    "    while average_error > 0.002: \n",
    "        epoch_loss_avg = tf.keras.metrics.Mean()\n",
    "        for iteration in range(iterations_per_epoch):\n",
    "            lower_bound = tf.zeros(shape=[1,1]) # Lower bound u(0)=0\n",
    "            upper_bound = tf.ones(shape=[1,1]) # Upper bound u(1)=1\n",
    "            interior_pts = tf.random.uniform(shape=[1,minibatch_size-2]) # Interior points\n",
    "            x = tf.transpose(tf.concat([lower_bound, interior_pts, upper_bound], 1)) # Actual training data\n",
    "            with tf.GradientTape() as t:\n",
    "                t.watch(x)\n",
    "                #print(x)\n",
    "                #f = model(x, training=True) # Estimate for u\n",
    "                loss = loss_fn(model,x) # Loss\n",
    "            grads = t.gradient(loss, model.trainable_weights) # Find model gradients\n",
    "            optimizer.apply_gradients(zip(grads,model.trainable_weights)) # Perform gradient decent\n",
    "            epoch_loss_avg.update_state(loss) # Track loss\n",
    "            # End training iteration\n",
    "        # Check average error    \n",
    "        lower_bound = tf.zeros(shape=[1,1]) # Lower bound u(0)=0\n",
    "        upper_bound = tf.ones(shape=[1,1]) # Upper bound u(1)=1\n",
    "        x = tf.sort(tf.random.uniform(shape=[1,98])) # Interior points\n",
    "        test_points_tensor = tf.transpose(tf.concat([lower_bound, x, upper_bound], 1)) # Actual data\n",
    "        test_points = test_points_tensor.numpy()\n",
    "        g = model(test_points_tensor, training=False).numpy()\n",
    "        average_error = np.sum(abs(g-test_points))/len(g)\n",
    "        print(average_error)\n",
    "        \n",
    "        train_loss_results.append(epoch_loss_avg.result())\n",
    "        epoch+=1 \n",
    "        print(\"Epoch {:03d}: Loss: {:.3f}\".format(epoch, epoch_loss_avg.result()))\n",
    "        # End Epoch"
   ]
  },
  {
   "cell_type": "code",
   "execution_count": 21,
   "id": "crucial-mortality",
   "metadata": {
    "scrolled": true
   },
   "outputs": [
    {
     "name": "stdout",
     "output_type": "stream",
     "text": [
      "0.003192731440067291\n",
      "Epoch 000: Loss: 0.067\n",
      "0.0010642269998788834\n",
      "Epoch 001: Loss: 0.000\n"
     ]
    },
    {
     "data": {
      "image/png": "[encoded data removed]",
      "text/plain": [
       "<Figure size 432x288 with 1 Axes>"
      ]
     },
     "metadata": {
      "needs_background": "light"
     },
     "output_type": "display_data"
    }
   ],
   "source": [
    "# Run the model with real data\n",
    "train()\n",
    "lower_bound = tf.zeros(shape=[1,1]) # Lower bound u(0)=0\n",
    "upper_bound = tf.ones(shape=[1,1]) # Upper bound u(1)=1\n",
    "x = tf.sort(tf.random.uniform(shape=[1,98])) # Interior points\n",
    "test_points_tensor = tf.transpose(tf.concat([lower_bound, x, upper_bound], 1)) # Actual data\n",
    "test_points = test_points_tensor.numpy()\n",
    "g = model(test_points_tensor, training=False).numpy()\n",
    "x_actual = tf.sort(tf.random.uniform(shape=[1,1000]).numpy()) # Known solution\n",
    "#print(test_points[0])\n",
    "#print(x_actual[0])\n",
    "#print(f[0])\n",
    "fig = plt.figure()\n",
    "ax = fig.add_subplot(111)\n",
    "ax.set_title('1D Laplace (DGM)')\n",
    "ax.plot(x_actual[0],x_actual[0], label='u(x)', color='blue')\n",
    "ax.plot(test_points,g,'r--', label='g(x)')\n",
    "ax.legend()\n",
    "ax.set_aspect('equal','box')\n",
    "\n",
    "tikzplotlib.save(\"1d_laplace_dgm.tex\")\n",
    "\n",
    "#average_error = np.sum(abs(g-test_points))/len(g)\n",
    "#print(average_error)"
   ]
  },
  {
   "cell_type": "code",
   "execution_count": 26,
   "id": "sharp-thesaurus",
   "metadata": {},
   "outputs": [
    {
     "name": "stdout",
     "output_type": "stream",
     "text": [
      "0.004246308207511902\n",
      "Epoch 000: Loss: 0.067\n",
      "0.001572984755039215\n",
      "Epoch 001: Loss: 0.000\n",
      "5.927197528999841\n"
     ]
    }
   ],
   "source": [
    "print(timeit.timeit(train, number=1))"
   ]
  }
 ],
 "metadata": {
  "kernelspec": {
   "display_name": "Python 3",
   "language": "python",
   "name": "python3"
  },
  "language_info": {
   "codemirror_mode": {
    "name": "ipython",
    "version": 3
   },
   "file_extension": ".py",
   "mimetype": "text/x-python",
   "name": "python",
   "nbconvert_exporter": "python",
   "pygments_lexer": "ipython3",
   "version": "3.8.5"
  }
 },
 "nbformat": 4,
 "nbformat_minor": 5
}
