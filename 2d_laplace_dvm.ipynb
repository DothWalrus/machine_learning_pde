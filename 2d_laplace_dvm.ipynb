{
 "cells": [
  {
   "cell_type": "code",
   "execution_count": 1,
   "id": "fdc78ec9",
   "metadata": {},
   "outputs": [],
   "source": [
    "import numpy as np\n",
    "import tensorflow as tf\n",
    "from tensorflow import keras\n",
    "from tensorflow.keras.models import Sequential\n",
    "from tensorflow.keras.layers import Dense\n",
    "from tensorflow.keras.layers import Flatten\n",
    "\n",
    "import matplotlib.pyplot as plt\n",
    "import tikzplotlib\n",
    "import pylab\n",
    "from mpl_toolkits.mplot3d import Axes3D"
   ]
  },
  {
   "cell_type": "code",
   "execution_count": 2,
   "id": "a223267b",
   "metadata": {},
   "outputs": [],
   "source": [
    "# Construct model\n",
    "model = Sequential()\n",
    "model.add(Dense(100, input_shape=[2,], activation='selu'))\n",
    "model.add(Dense(100, activation='selu', activity_regularizer=tf.keras.regularizers.L2(0.01)))\n",
    "model.add(Dense(100, activation='selu', activity_regularizer=tf.keras.regularizers.L2(0.01)))\n",
    "model.add(Dense(100, activation='selu', activity_regularizer=tf.keras.regularizers.L2(0.01)))\n",
    "model.add(Dense(100, activation='selu', activity_regularizer=tf.keras.regularizers.L2(0.01)))\n",
    "model.add(Dense(100, activation='selu', activity_regularizer=tf.keras.regularizers.L2(0.01)))\n",
    "model.add(Flatten())\n",
    "model.add(Dense(1))"
   ]
  },
  {
   "cell_type": "code",
   "execution_count": 3,
   "id": "ac82d84a",
   "metadata": {},
   "outputs": [],
   "source": [
    "def theta2cart(theta, r): # converts random thetas and fixed r into x and y coordinates\n",
    "    x_out = tf.math.multiply(r, tf.math.cos(theta)) # x = 4cos(theta_in)\n",
    "    y_out = tf.math.multiply(r, tf.math.sin(theta)) # y = 4sin(theta_in)\n",
    "    \n",
    "    pts = tf.transpose(tf.stack([x_out,y_out],0))\n",
    "    return pts"
   ]
  },
  {
   "cell_type": "code",
   "execution_count": 4,
   "id": "ff03dffd",
   "metadata": {},
   "outputs": [],
   "source": [
    "def out_bnd_fn(theta_out): # f(4,theta) = 4sin(5theta)\n",
    "    f_true = tf.transpose(tf.math.scalar_mul(4, tf.math.sin(tf.math.scalar_mul(5,theta_out))))\n",
    "    return f_true"
   ]
  },
  {
   "cell_type": "code",
   "execution_count": 5,
   "id": "9b694c69",
   "metadata": {},
   "outputs": [],
   "source": [
    "# Used as pre-training to train the network to satisfy the boundary condition\n",
    "def out_bnd_loss_fn(f_pred, theta_out): # loss_fn(model, [x,y], [theta_in], [theta_out])\n",
    "#     f_pred = tf.squeeze(f_pred)\n",
    "#     print(\"f_pred shape\" ,tf.shape(f_pred))\n",
    "\n",
    "# Find loss for outer boundary points #####################################################################\n",
    "    f_true =  out_bnd_fn(theta_out)\n",
    "#     f_true = tf.squeeze(f_true)\n",
    "#     print(\"t_true shape\", tf.shape(f_true))\n",
    "#     print(tf.shape(trainable_weights))\n",
    "#     regulizer = tf.nn.l2_loss(trainable_weights)\n",
    "# out_bnd_err = f(x,y)-4sin(5theta)\n",
    "\n",
    "    loss = tf.keras.metrics.mean_squared_error(f_true,f_pred) # MSE outer bound points\n",
    "    return loss"
   ]
  },
  {
   "cell_type": "code",
   "execution_count": 6,
   "id": "6342fadc",
   "metadata": {},
   "outputs": [],
   "source": [
    "# Used as pre-training to train the network to satisfy the boundary condition\n",
    "def out_bnd_train_for():\n",
    "\n",
    "# Define training parameters ##############################################################################    \n",
    "    optimizer = tf.keras.optimizers.Ftrl(learning_rate=0.1) # Fancy gradient decent\n",
    "    epochs = 200\n",
    "    train_loss_results = [] # For tracking loss during training\n",
    "    iterations_per_epoch = 100\n",
    "\n",
    "    theta_out_size = 100 # Number of outer boundary points to sample each iteration\n",
    "\n",
    "    for epoch in range(epochs):\n",
    "        epoch_loss_avg = tf.keras.metrics.Mean()\n",
    "        \n",
    "        for iteration in range(iterations_per_epoch):\n",
    "    \n",
    "# Sample outer bound thetas ###############################################################################\n",
    "            theta_out = tf.random.uniform([1,theta_out_size], minval=0, maxval=2*np.pi)\n",
    "            out_bnd_pts = theta2cart(theta_out,4)\n",
    "            \n",
    "# Optimize the network with respect to hyperparameters ####################################################\n",
    "            \n",
    "            with tf.GradientTape() as t:\n",
    "                f_pred = model(out_bnd_pts, training=True)\n",
    "                loss = out_bnd_loss_fn(f_pred, theta_out) # Loss\n",
    "            grads = t.gradient(loss, model.trainable_weights) # Find model gradients\n",
    "            optimizer.apply_gradients(zip(grads, model.trainable_weights)) # Perform gradient decent\n",
    "            epoch_loss_avg.update_state(loss) # Track loss\n",
    "            #optimizer.minimize(loss_fn(model, theta_out), model.trainable_weights)\n",
    "            # End training iteration\n",
    "        train_loss_results.append(epoch_loss_avg.result())\n",
    "        \n",
    "        if epoch % 10 == 0:\n",
    "            print(\"Epoch {:03d}: Loss: {:.3f}\".format(epoch, epoch_loss_avg.result()))\n",
    "        # End Epoch"
   ]
  },
  {
   "cell_type": "code",
   "execution_count": 7,
   "id": "574b8d43",
   "metadata": {},
   "outputs": [],
   "source": [
    "def loss_fn(model, int_pts, theta_in, theta_out): # loss_fn(model, [x,y], [theta_in], [theta_out])\n",
    "    \n",
    "# Find loss for interior points ###########################################################################\n",
    "    with tf.GradientTape() as t:\n",
    "        t.watch(int_pts)\n",
    "        g = model(int_pts)\n",
    "#         print('g = ', g)\n",
    "    grad_g = t.gradient(g, int_pts) \n",
    "#     print(grad_g)\n",
    "#     dg_dx = grad_g[0:,0,0] # dg/dx\n",
    "#     print(dg_dx)\n",
    "#     dg_dy = grad_g[0:,0,1] # dg/dy\n",
    "    grad_g_l2_norm = tf.nn.l2_loss(grad_g) # Dirichlet energies / 2\n",
    "    \n",
    "# Find loss for inner boundary points #####################################################################\n",
    "    in_bnd_pts = theta2cart(theta_in, 2)\n",
    "    in_bnd_true = tf.zeros(tf.shape(theta_in))\n",
    "    in_bnd_pred = model(in_bnd_pts) # in_bnd_err = g(x,y)-0\n",
    "#     print(\"in_bnd_pred shape: \", tf.shape(in_bnd_pred))\n",
    "    in_bnd_mse = tf.keras.metrics.mean_squared_error(in_bnd_pred, in_bnd_true) # MSE inner bound points\n",
    "#     print(\"in_bnd_mse = \", in_bnd_mse)\n",
    "    \n",
    "# Find loss for outer boundary points #####################################################################    \n",
    "    out_bnd_pts = theta2cart(theta_out,4)\n",
    "    out_bnd_true = out_bnd_fn(theta_out)\n",
    "    out_bnd_pred = model(out_bnd_pts) # MSE outer bound points\n",
    "#     print(\"out_bnd_pred shape: \", tf.shape(out_bnd_pred))\n",
    "    out_bnd_mse = tf.keras.metrics.mean_squared_error(out_bnd_pts, out_bnd_pred)\n",
    "#     print(\"out_bnd_mse = \", out_bnd_mse)\n",
    "\n",
    "# Find total weighted boundary error ######################################################################\n",
    "    bnd_err = in_bnd_mse + out_bnd_mse\n",
    "    Lambda = 100\n",
    "    weighted_bnd_loss = tf.math.scalar_mul(Lambda, bnd_err)\n",
    "\n",
    "# Total loss ##############################################################################################\n",
    "    loss = tf.math.add(grad_g_l2_norm, weighted_bnd_loss)\n",
    "    \n",
    "    return loss"
   ]
  },
  {
   "cell_type": "code",
   "execution_count": 8,
   "id": "813b5caf",
   "metadata": {},
   "outputs": [],
   "source": [
    "# Train network\n",
    "def train_for():\n",
    "    \n",
    "# Train network on outer boundary first ###################################################################\n",
    "    print('Training outer bound...')\n",
    "    out_bnd_train_for()\n",
    "\n",
    "# Define training parameters ##############################################################################    \n",
    "    print('Training network on all conditions...')\n",
    "    \n",
    "    optimizer = tf.keras.optimizers.Ftrl() # Fancy gradient decent\n",
    "    epochs = 200\n",
    "    train_loss_results = [] # For tracking loss during training\n",
    "    iterations_per_epoch = 100\n",
    "\n",
    "    int_pts_size = 1000 # Number of interior points to sample each iteration\n",
    "    theta_in_size = 1000 # Number of inner boundary points to sample each iteration\n",
    "    theta_out_size = 1000 # Number of outer boundary points to sample each iteration\n",
    "\n",
    "\n",
    "    for epoch in range(epochs):\n",
    "        epoch_loss_avg = tf.keras.metrics.Mean()\n",
    "        \n",
    "        for iteration in range(iterations_per_epoch):\n",
    "# Sample interior points ##################################################################################\n",
    "            r_int = tf.math.sqrt( # r = sqrt(R2^2+ rand()*(R4^2-R2^2))\n",
    "                tf.add(4, tf.math.scalar_mul(12, tf.random.uniform([1,int_pts_size], minval=0, maxval=1))))\n",
    "            theta_int = tf.random.uniform([1,int_pts_size], minval=0, maxval=2*np.pi)\n",
    "            \n",
    "            # Convert to cartestian\n",
    "#             x_int = tf.math.multiply(r_int, tf.math.cos(theta_int)) \n",
    "#             y_int = tf.math.multiply(r_int, tf.math.sin(theta_int))\n",
    "#             int_pts = tf.transpose(tf.stack([x_int, y_int], 0))\n",
    "            int_pts = theta2cart(theta_int, r_int)\n",
    "    \n",
    "# Sample inner bound thetas ###############################################################################    \n",
    "            theta_in = tf.random.uniform([1,theta_in_size], minval=0, maxval=2*np.pi)\n",
    "    \n",
    "# Sample outer bound thetas ###############################################################################\n",
    "            theta_out = tf.random.uniform([1,theta_out_size], minval=0, maxval=2*np.pi)\n",
    "            \n",
    "# Optimize the network with respect to hyperparameters ####################################################\n",
    "            \n",
    "            with tf.GradientTape() as t:\n",
    "                loss = loss_fn(model, int_pts, theta_in, theta_out) # Loss\n",
    "            grads = t.gradient(loss, model.trainable_weights) # Find model gradients\n",
    "            optimizer.apply_gradients(zip(grads, model.trainable_weights)) # Perform gradient decent\n",
    "            epoch_loss_avg.update_state(loss) # Track loss\n",
    "            # End training iteration\n",
    "        train_loss_results.append(epoch_loss_avg.result())\n",
    "        \n",
    "        if epoch % 10 == 0:\n",
    "            print(\"Epoch {:03d}: Loss: {:.3f}\".format(epoch, epoch_loss_avg.result()))\n",
    "        # End Epoch"
   ]
  },
  {
   "cell_type": "code",
   "execution_count": 9,
   "id": "223ee1d3",
   "metadata": {
    "scrolled": true
   },
   "outputs": [
    {
     "name": "stdout",
     "output_type": "stream",
     "text": [
      "Training outer bound...\n",
      "Epoch 000: Loss: 1855914.750\n",
      "Epoch 010: Loss: 1.076\n",
      "Epoch 020: Loss: 0.607\n",
      "Epoch 030: Loss: 0.352\n",
      "Epoch 040: Loss: 0.277\n",
      "Epoch 050: Loss: 0.216\n",
      "Epoch 060: Loss: 0.176\n",
      "Epoch 070: Loss: 0.150\n",
      "Epoch 080: Loss: 0.150\n",
      "Epoch 090: Loss: 0.118\n",
      "Epoch 100: Loss: 0.102\n",
      "Epoch 110: Loss: 0.111\n",
      "Epoch 120: Loss: 0.088\n",
      "Epoch 130: Loss: 0.085\n",
      "Epoch 140: Loss: 0.101\n",
      "Epoch 150: Loss: 0.071\n",
      "Epoch 160: Loss: 0.076\n",
      "Epoch 170: Loss: 0.073\n",
      "Epoch 180: Loss: 0.064\n",
      "Epoch 190: Loss: 0.058\n",
      "Training network on all conditions...\n",
      "Epoch 000: Loss: 12256.815\n",
      "Epoch 010: Loss: 2403.245\n",
      "Epoch 020: Loss: 1899.491\n",
      "Epoch 030: Loss: 1460.093\n",
      "Epoch 040: Loss: 1302.778\n",
      "Epoch 050: Loss: 1135.160\n",
      "Epoch 060: Loss: 1046.740\n",
      "Epoch 070: Loss: 980.794\n",
      "Epoch 080: Loss: 905.116\n",
      "Epoch 090: Loss: 866.174\n",
      "Epoch 100: Loss: 858.190\n",
      "Epoch 110: Loss: 854.182\n",
      "Epoch 120: Loss: 847.576\n",
      "Epoch 130: Loss: 839.263\n",
      "Epoch 140: Loss: 832.939\n",
      "Epoch 150: Loss: 828.022\n",
      "Epoch 160: Loss: 825.466\n",
      "Epoch 170: Loss: 823.430\n",
      "Epoch 180: Loss: 820.811\n",
      "Epoch 190: Loss: 820.010\n"
     ]
    }
   ],
   "source": [
    "train_for()"
   ]
  },
  {
   "cell_type": "code",
   "execution_count": 10,
   "id": "454407cb",
   "metadata": {},
   "outputs": [
    {
     "name": "stdout",
     "output_type": "stream",
     "text": [
      "test_pts_shape:  (3000, 1, 2)\n",
      "z shape:  tf.Tensor([3000    1], shape=(2,), dtype=int32)\n"
     ]
    }
   ],
   "source": [
    "# Generate test points to plot ############################################################################\n",
    "in_bnd_pts_size = 1000 # Number of inner boundary points to sample \n",
    "out_bnd_pts_size = 1000 # Number of outer boundary points to sample \n",
    "int_pts_size = 1000 # Number of interior points to sample\n",
    "\n",
    "# Sample interior points ##################################################################################\n",
    "r_int = tf.math.sqrt( # r = sqrt(R2^2+ rand()*(R4^2-R2^2))\n",
    "    tf.add(4, tf.math.scalar_mul(12, tf.random.uniform([1, int_pts_size], minval = 0, maxval=1))))\n",
    "theta_int = tf.random.uniform([1, int_pts_size], minval=0, maxval=2*np.pi)\n",
    "# Convert to cartestian\n",
    "int_pts = theta2cart(theta_int, r_int)\n",
    "\n",
    "# Sample inner boundary points ############################################################################\n",
    "theta_in = tf.random.uniform([1, in_bnd_pts_size], minval=0, maxval=2*np.pi)\n",
    "in_bnd_pts = theta2cart(theta_in, 2)\n",
    "\n",
    "# Sample outer boundary points ############################################################################\n",
    "theta_out = tf.random.uniform([1, out_bnd_pts_size], minval=0, maxval=2*np.pi)\n",
    "out_bnd_pts = theta2cart(theta_out, 4)\n",
    "# print(out_bnd_pts.shape)\n",
    "# print(out_bnd_pts)\n",
    "\n",
    "test_pts = tf.concat([int_pts, in_bnd_pts, out_bnd_pts],0)\n",
    "# print(test_pts)\n",
    "print(\"test_pts_shape: \", test_pts.shape)\n",
    "\n",
    "z = model(test_pts)\n",
    "print(\"z shape: \", tf.shape(z))"
   ]
  },
  {
   "cell_type": "code",
   "execution_count": 11,
   "id": "7945879c",
   "metadata": {},
   "outputs": [
    {
     "name": "stdout",
     "output_type": "stream",
     "text": [
      "(3000,)\n",
      "(3000,)\n",
      "(3000,)\n"
     ]
    },
    {
     "data": {
      "image/png": "[encoded data removed]",
      "text/plain": [
       "<Figure size 288x288 with 1 Axes>"
      ]
     },
     "metadata": {
      "needs_background": "light"
     },
     "output_type": "display_data"
    }
   ],
   "source": [
    "# Plot ####################################################################################################\n",
    "fig = pylab.figure(figsize=plt.figaspect(1))\n",
    "ax = Axes3D(fig)\n",
    "\n",
    "X = test_pts[0:, 0, 0].numpy()\n",
    "print(X.shape)\n",
    "Y = test_pts[0:, 0, 1].numpy()\n",
    "print(Y.shape)\n",
    "Z = z[0:, 0].numpy()\n",
    "print(Z.shape)\n",
    "\n",
    "ax.plot_trisurf(X,Y,Z, cmap=plt.cm.YlGnBu_r)\n",
    "ax.view_init(0, 20)\n",
    "plt.show()"
   ]
  },
  {
   "cell_type": "code",
   "execution_count": 12,
   "id": "07f223a0",
   "metadata": {
    "scrolled": true
   },
   "outputs": [
    {
     "data": {
      "image/png": "[encoded data removed]",
      "text/plain": [
       "<Figure size 432x288 with 1 Axes>"
      ]
     },
     "metadata": {
      "needs_background": "light"
     },
     "output_type": "display_data"
    }
   ],
   "source": [
    "plt.scatter(X,Y)\n",
    "plt.show()"
   ]
  }
 ],
 "metadata": {
  "kernelspec": {
   "display_name": "Python 3",
   "language": "python",
   "name": "python3"
  },
  "language_info": {
   "codemirror_mode": {
    "name": "ipython",
    "version": 3
   },
   "file_extension": ".py",
   "mimetype": "text/x-python",
   "name": "python",
   "nbconvert_exporter": "python",
   "pygments_lexer": "ipython3",
   "version": "3.7.7"
  }
 },
 "nbformat": 4,
 "nbformat_minor": 5
}
