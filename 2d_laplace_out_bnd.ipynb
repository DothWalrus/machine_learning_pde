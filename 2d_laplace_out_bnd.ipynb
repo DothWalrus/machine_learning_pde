{
 "cells": [
  {
   "cell_type": "code",
   "execution_count": 20,
   "id": "fdc78ec9",
   "metadata": {},
   "outputs": [],
   "source": [
    "import numpy as np\n",
    "import tensorflow as tf\n",
    "from tensorflow import keras\n",
    "from tensorflow.keras.models import Sequential\n",
    "# from tensorflow.keras.layers import BatchNormalization\n",
    "# from tensorflow.keras.layers import Conv2D\n",
    "# from tensorflow.keras.layers import MaxPooling2D\n",
    "# from tensorflow.keras.layers import Activation\n",
    "# from tensorflow.keras.layers import Dropout\n",
    "from tensorflow.keras.layers import Dense\n",
    "# from tensorflow.keras.layers import Flatten\n",
    "# from tensorflow.keras.layers import Input\n",
    "# from tensorflow.keras.layers import Concatenate\n",
    "# from tensorflow.keras.models import Model\n",
    "import matplotlib.pyplot as plt\n",
    "import tikzplotlib\n",
    "import pylab\n",
    "from mpl_toolkits.mplot3d import Axes3D"
   ]
  },
  {
   "cell_type": "code",
   "execution_count": 2,
   "id": "c3bd2731",
   "metadata": {},
   "outputs": [],
   "source": [
    "# Figure out how partial derivatives and gradients work\n",
    "# def f(x):\n",
    "#     return tf.math.square(x[0]) + tf.math.square(x[1]) + tf.math.multiply(x[0],x[1]) # x^2+y^2+xy\n",
    "\n",
    "# x_bar = tf.Variable([[1.0,2,3,4],[1,1,1,1]]) # x_bar = (x,y)\n",
    "# print(x[0])\n",
    "# with tf.GradientTape() as t:\n",
    "#     t.watch(x_bar)\n",
    "#     f = f(x_bar)\n",
    "# grad_f = t.gradient(f,x_bar)\n",
    "# df_dx = grad_f[0]\n",
    "# df_dy = grad_f[1]\n",
    "# print(grad_f, df_dx, df_dy)\n",
    "# a = tf.constant([[1, 2, 3, 4],[1,2,3,4]])\n",
    "# b = tf.constant([1, 1, 1, 1])\n",
    "# d = tf.constant([2,2,2,2])\n",
    "# c = tf.subtract(a,b)\n",
    "# c = tf.stack([a,b,d])\n",
    "# print(c)\n",
    "# c = tf.squeeze(c)\n",
    "# print(c)"
   ]
  },
  {
   "cell_type": "code",
   "execution_count": 21,
   "id": "a223267b",
   "metadata": {},
   "outputs": [],
   "source": [
    "# Construct model\n",
    "model = Sequential()\n",
    "model.add(Dense(100, input_shape=[2,], activation='tanh'))\n",
    "model.add(Dense(100, activation='tanh'))\n",
    "model.add(Dense(100, activation='tanh'))\n",
    "model.add(Dense(100, activation='tanh'))\n",
    "model.add(Dense(100, activation='tanh'))\n",
    "model.add(Dense(100, activation='tanh'))\n",
    "model.add(Dense(1))"
   ]
  },
  {
   "cell_type": "code",
   "execution_count": 49,
   "id": "574b8d43",
   "metadata": {},
   "outputs": [],
   "source": [
    "def loss_fn(model, theta_out): # loss_fn(model, [x,y], [theta_in], [theta_out])\n",
    "\n",
    "# Find loss for outer boundary points #####################################################################    \n",
    "    x_out = tf.math.scalar_mul(4, tf.math.cos(theta_out)) # x = 4cos(theta_in)\n",
    "    y_out = tf.math.scalar_mul(4, tf.math.sin(theta_out)) # y = 4sin(theta_in)\n",
    "    out_bnd_pts = tf.transpose(tf.stack([x_out,y_out],0))\n",
    "    \n",
    "    y_true =  tf.math.scalar_mul(4, tf.math.sin(tf.math.scalar_mul(5, theta_out)))                                 \n",
    "    y_pred = model(out_bnd_pts) # out_bnd_err = g(x,y)-4sin(5theta)\n",
    "                                  \n",
    "    loss = tf.keras.metrics.mean_squared_error(y_true,y_pred) # MSE outer bound points / 2\n",
    "\n",
    "    return loss"
   ]
  },
  {
   "cell_type": "code",
   "execution_count": 71,
   "id": "813b5caf",
   "metadata": {},
   "outputs": [],
   "source": [
    "# Train network\n",
    "def train_for():\n",
    "\n",
    "# Define training parameters ##############################################################################    \n",
    "    optimizer = tf.keras.optimizers.Nadam() # Fancy gradient decent\n",
    "    epochs = 20\n",
    "    train_loss_results = [] # For tracking loss during training\n",
    "    iterations_per_epoch = 100\n",
    "\n",
    "    theta_out_size = 100 # Number of outer boundary points to sample each iteration\n",
    "\n",
    "    for epoch in range(epochs):\n",
    "        epoch_loss_avg = tf.keras.metrics.Mean()\n",
    "        \n",
    "        for iteration in range(iterations_per_epoch):\n",
    "    \n",
    "# Sample outer bound thetas ###############################################################################\n",
    "            theta_out = tf.random.uniform([1,theta_out_size], minval=0, maxval=2*np.pi)\n",
    "            \n",
    "# Optimize the network with respect to hyperparameters ####################################################\n",
    "            \n",
    "            with tf.GradientTape() as t:\n",
    "                loss = loss_fn(model, theta_out) # Loss\n",
    "            grads = t.gradient(loss, model.trainable_weights) # Find model gradients\n",
    "            optimizer.apply_gradients(zip(grads, model.trainable_weights)) # Perform gradient decent\n",
    "            epoch_loss_avg.update_state(loss) # Track loss\n",
    "            #optimizer.minimize(loss_fn(model, theta_out), model.trainable_weights)\n",
    "            # End training iteration\n",
    "        train_loss_results.append(epoch_loss_avg.result())\n",
    "        \n",
    "        if epoch % 1 == 0:\n",
    "            print(\"Epoch {:03d}: Loss: {:.3f}\".format(epoch, epoch_loss_avg.result()))\n",
    "        # End Epoch"
   ]
  },
  {
   "cell_type": "code",
   "execution_count": 72,
   "id": "a4928e94",
   "metadata": {},
   "outputs": [
    {
     "name": "stdout",
     "output_type": "stream",
     "text": [
      "Epoch 000: Loss: 7.966\n",
      "Epoch 001: Loss: 8.036\n",
      "Epoch 002: Loss: 8.004\n",
      "Epoch 003: Loss: 7.997\n",
      "Epoch 004: Loss: 8.005\n",
      "Epoch 005: Loss: 7.966\n",
      "Epoch 006: Loss: 7.881\n",
      "Epoch 007: Loss: 8.026\n",
      "Epoch 008: Loss: 8.046\n",
      "Epoch 009: Loss: 8.026\n",
      "Epoch 010: Loss: 8.118\n",
      "Epoch 011: Loss: 7.998\n",
      "Epoch 012: Loss: 7.953\n",
      "Epoch 013: Loss: 8.005\n",
      "Epoch 014: Loss: 8.078\n",
      "Epoch 015: Loss: 7.979\n",
      "Epoch 016: Loss: 7.878\n",
      "Epoch 017: Loss: 8.059\n",
      "Epoch 018: Loss: 7.960\n",
      "Epoch 019: Loss: 7.949\n"
     ]
    }
   ],
   "source": [
    "train_for()"
   ]
  },
  {
   "cell_type": "code",
   "execution_count": 57,
   "id": "454407cb",
   "metadata": {},
   "outputs": [
    {
     "name": "stdout",
     "output_type": "stream",
     "text": [
      "(1000, 1, 2)\n",
      "tf.Tensor([1000    1    1], shape=(3,), dtype=int32)\n"
     ]
    }
   ],
   "source": [
    "# Generate test points to plot ############################################################################\n",
    "out_bnd_pts_size = 1000 # Number of outer boundary points to sample \n",
    "\n",
    "# Sample outer boundary points ############################################################################\n",
    "theta_out = tf.random.uniform([1, out_bnd_pts_size], minval=0, maxval=2*np.pi)\n",
    "x_out = tf.math.scalar_mul(4, tf.math.cos(theta_out))\n",
    "y_out = tf.math.scalar_mul(4, tf.math.sin(theta_out))\n",
    "out_bnd_pts = tf.stack([x_out, y_out], 0)\n",
    "# print(out_bnd_pts.shape)\n",
    "# print(out_bnd_pts)\n",
    "\n",
    "test_pts = tf.transpose(out_bnd_pts)\n",
    "# print(test_pts)\n",
    "print(test_pts.shape)\n",
    "\n",
    "z = model(test_pts)\n",
    "print(tf.shape(z))"
   ]
  },
  {
   "cell_type": "code",
   "execution_count": 58,
   "id": "7945879c",
   "metadata": {},
   "outputs": [
    {
     "name": "stdout",
     "output_type": "stream",
     "text": [
      "(1000,)\n",
      "(1000,)\n",
      "(1000,)\n"
     ]
    },
    {
     "data": {
      "image/png": "[encoded data removed]",
      "text/plain": [
       "<Figure size 288x288 with 1 Axes>"
      ]
     },
     "metadata": {
      "needs_background": "light"
     },
     "output_type": "display_data"
    }
   ],
   "source": [
    "# Plot ####################################################################################################\n",
    "fig = pylab.figure(figsize=plt.figaspect(1))\n",
    "ax = Axes3D(fig)\n",
    "\n",
    "X = test_pts[0:, 0, 0].numpy()\n",
    "print(X.shape)\n",
    "Y = test_pts[0:, 0, 1].numpy()\n",
    "print(Y.shape)\n",
    "Z = z[0:, 0, 0].numpy()\n",
    "print(Z.shape)\n",
    "\n",
    "ax.plot_trisurf(X,Y,Z, cmap=plt.cm.YlGnBu_r)\n",
    "ax.view_init(30, 0)\n",
    "plt.show()"
   ]
  },
  {
   "cell_type": "code",
   "execution_count": 59,
   "id": "702c5785",
   "metadata": {},
   "outputs": [
    {
     "data": {
      "image/png": "[encoded data removed]",
      "text/plain": [
       "<Figure size 432x288 with 1 Axes>"
      ]
     },
     "metadata": {
      "needs_background": "light"
     },
     "output_type": "display_data"
    }
   ],
   "source": [
    "plt.scatter(X,Y)\n",
    "plt.show()"
   ]
  }
 ],
 "metadata": {
  "kernelspec": {
   "display_name": "Python 3",
   "language": "python",
   "name": "python3"
  },
  "language_info": {
   "codemirror_mode": {
    "name": "ipython",
    "version": 3
   },
   "file_extension": ".py",
   "mimetype": "text/x-python",
   "name": "python",
   "nbconvert_exporter": "python",
   "pygments_lexer": "ipython3",
   "version": "3.7.7"
  }
 },
 "nbformat": 4,
 "nbformat_minor": 5
}
